{
 "cells": [
  {
   "cell_type": "markdown",
   "metadata": {
    "pycharm": {
     "name": "#%% md\n"
    }
   },
   "source": [
    "## How to submit samples to EBI BioSamples\n",
    "\n",
    "This guide explains how you can submit data to BioSamples using BioSamples API.\n",
    "The guide contains Python code snippets. Some understanding of Python could be helpful to follow.\n",
    "\n",
    "> All the services (URLs) used in this guide are from development environments to reduce test data in production servers.\n",
    "> You can easily access all the production services by replacing `wwwdev` with `www` in URLs.\n",
    "\n",
    "The guide assumes that you already have a working ENA Webin account.\n",
    "If you do not have one, you can easily create a new account [here at Webin development environment](https://wwwdev.ebi.ac.uk/ena/submit/sra/#home).\n",
    "\n",
    "> If you just created an account following the above link, it is in development environment of Webin.\n",
    "All the data in development machines are replaced with production data each night.\n",
    "Therefore, the account is only accessible today. Alternatively, you can create an account in\n",
    "[production](https://www.ebi.ac.uk/ena/submit/sra/#home). But this will take one day to activate in development environment,\n",
    "for the same reason as above.\n",
    "\n",
    "Following are the steps we are going to follow.\n",
    "1. Authenticate using ENA Webin\n",
    "2. Create a sample\n",
    "3. Update the sample\n",
    "4. Attach a checklist to the sample for validation\n",
    "\n",
    "Let's start by importing Python libraries and by defining variables for BioSamples and Webin URLs."
   ]
  },
  {
   "cell_type": "code",
   "execution_count": 1,
   "metadata": {
    "pycharm": {
     "name": "#%%\n"
    }
   },
   "outputs": [],
   "source": [
    "import requests\n",
    "from datetime import datetime, timedelta\n",
    "\n",
    "BIOSAMPLES_URL = 'https://wwwdev.ebi.ac.uk/biosamples/samples'\n",
    "WEBIN_URL = 'https://wwwdev.ebi.ac.uk/ena/submit/webin/auth/token'"
   ]
  },
  {
   "cell_type": "markdown",
   "metadata": {
    "pycharm": {
     "name": "#%% md\n"
    }
   },
   "source": [
    "Now let's create two variables to hold Webin username and password. I am going to use an account we have created for demos."
   ]
  },
  {
   "cell_type": "code",
   "execution_count": 2,
   "metadata": {
    "pycharm": {
     "name": "#%%\n"
    }
   },
   "outputs": [],
   "source": [
    "WEBIN_USERNAME = 'Webin-59287'\n",
    "WEBIN_PASSWORD = ''"
   ]
  },
  {
   "cell_type": "markdown",
   "metadata": {
    "pycharm": {
     "name": "#%% md\n"
    }
   },
   "source": [
    "Now we are ready to start the submission process.\n",
    "Before the actual submission, login to the system and get a token(JWT). If you are interested, read more about JWT [here](https://jwt.io/)."
   ]
  },
  {
   "cell_type": "code",
   "execution_count": 3,
   "metadata": {
    "pycharm": {
     "name": "#%%\n"
    }
   },
   "outputs": [],
   "source": [
    "auth_body = {\n",
    "    \"authRealms\": [\"ENA\"],\n",
    "    \"password\": WEBIN_PASSWORD,\n",
    "    \"username\": WEBIN_USERNAME\n",
    "}\n",
    "response = requests.post(WEBIN_URL, json=auth_body)\n",
    "if response.status_code == requests.codes.ok:\n",
    "    token = response.text\n",
    "else:\n",
    "    raise response.raise_for_status()"
   ]
  },
  {
   "cell_type": "markdown",
   "metadata": {},
   "source": [
    "In the above code snippets, first we defined the body of the authentication request.\n",
    "Then we made the actual request and assigned the token to a variable called `token`\n",
    "\n",
    "Now we have all the information to make the actual request to create a sample.\n",
    "First define headers and parameters required for the requests."
   ]
  },
  {
   "cell_type": "code",
   "execution_count": 4,
   "metadata": {
    "pycharm": {
     "name": "#%%\n"
    }
   },
   "outputs": [],
   "source": [
    "header = {\n",
    "    \"Content-Type\": \"application/json;charset=UTF-8\",\n",
    "    \"Accept\": \"application/hal+json\",\n",
    "    \"Authorization\": \"Bearer \" + token\n",
    "}\n",
    "\n",
    "params = {\"authProvider\": \"WEBIN\"}"
   ]
  },
  {
   "cell_type": "markdown",
   "metadata": {
    "pycharm": {
     "name": "#%% md\n"
    }
   },
   "source": [
    "Second, create the sample body. You can see sample body is in JSON format.\n",
    "We have given the sample a name and assigned a release date (immediately in the past to make sample public).\n",
    "Also `webinSubmissionAccountId` holds the Webin username.\n",
    "Sample `characteristics` section holds the all metadata of the sample.\n",
    "For BioSamples submission `organism` value is mandatory."
   ]
  },
  {
   "cell_type": "code",
   "execution_count": 5,
   "metadata": {
    "pycharm": {
     "name": "#%%\n"
    }
   },
   "outputs": [],
   "source": [
    "sample_request = {\n",
    "    \"name\": \"test_sample\",\n",
    "    \"release\": (datetime.now() - timedelta(hours=1)).isoformat(),\n",
    "    \"webinSubmissionAccountId\": WEBIN_USERNAME,\n",
    "    \"characteristics\": {\n",
    "        \"organism\": [{\n",
    "            \"text\": \"Capsicum annuum\",\n",
    "            \"ontologyTerms\": [\"http://purl.obolibrary.org/obo/NCBITaxon_4072\"]\n",
    "        }]\n",
    "    }\n",
    "}"
   ]
  },
  {
   "cell_type": "markdown",
   "metadata": {
    "pycharm": {
     "name": "#%% md\n"
    }
   },
   "source": [
    "Send request to BioSamples to create a sample.\n",
    "With the request, we have included headers, parameters and sample request body."
   ]
  },
  {
   "cell_type": "code",
   "execution_count": 1,
   "metadata": {
    "pycharm": {
     "name": "#%%\n"
    }
   },
   "outputs": [
    {
     "ename": "NameError",
     "evalue": "name 'BIOSAMPLES_URL' is not defined",
     "output_type": "error",
     "traceback": [
      "\u001B[0;31m---------------------------------------------------------------------------\u001B[0m",
      "\u001B[0;31mNameError\u001B[0m                                 Traceback (most recent call last)",
      "\u001B[0;32m<ipython-input-1-15fff2a1c0aa>\u001B[0m in \u001B[0;36m<module>\u001B[0;34m\u001B[0m\n\u001B[0;32m----> 1\u001B[0;31m \u001B[0msubmit_url\u001B[0m \u001B[0;34m=\u001B[0m \u001B[0mBIOSAMPLES_URL\u001B[0m\u001B[0;34m\u001B[0m\u001B[0;34m\u001B[0m\u001B[0m\n\u001B[0m\u001B[1;32m      2\u001B[0m \u001B[0mresponse\u001B[0m \u001B[0;34m=\u001B[0m \u001B[0mrequests\u001B[0m\u001B[0;34m.\u001B[0m\u001B[0mpost\u001B[0m\u001B[0;34m(\u001B[0m\u001B[0msubmit_url\u001B[0m\u001B[0;34m,\u001B[0m \u001B[0mheaders\u001B[0m\u001B[0;34m=\u001B[0m\u001B[0mheader\u001B[0m\u001B[0;34m,\u001B[0m \u001B[0mparams\u001B[0m\u001B[0;34m=\u001B[0m\u001B[0mparams\u001B[0m\u001B[0;34m,\u001B[0m \u001B[0mjson\u001B[0m\u001B[0;34m=\u001B[0m\u001B[0msample_request\u001B[0m\u001B[0;34m)\u001B[0m\u001B[0;34m\u001B[0m\u001B[0;34m\u001B[0m\u001B[0m\n\u001B[1;32m      3\u001B[0m \u001B[0;34m\u001B[0m\u001B[0m\n\u001B[1;32m      4\u001B[0m \u001B[0;32mif\u001B[0m \u001B[0mresponse\u001B[0m\u001B[0;34m.\u001B[0m\u001B[0mstatus_code\u001B[0m \u001B[0;34m==\u001B[0m \u001B[0mrequests\u001B[0m\u001B[0;34m.\u001B[0m\u001B[0mcodes\u001B[0m\u001B[0;34m.\u001B[0m\u001B[0mcreated\u001B[0m\u001B[0;34m:\u001B[0m\u001B[0;34m\u001B[0m\u001B[0;34m\u001B[0m\u001B[0m\n\u001B[1;32m      5\u001B[0m     \u001B[0msample_response\u001B[0m \u001B[0;34m=\u001B[0m \u001B[0mresponse\u001B[0m\u001B[0;34m.\u001B[0m\u001B[0mjson\u001B[0m\u001B[0;34m(\u001B[0m\u001B[0;34m)\u001B[0m\u001B[0;34m\u001B[0m\u001B[0;34m\u001B[0m\u001B[0m\n",
      "\u001B[0;31mNameError\u001B[0m: name 'BIOSAMPLES_URL' is not defined"
     ]
    }
   ],
   "source": [
    "submit_url = BIOSAMPLES_URL\n",
    "response = requests.post(submit_url, headers=header, params=params, json=sample_request)\n",
    "\n",
    "if response.status_code == requests.codes.created:\n",
    "    sample_response = response.json()\n",
    "    accession = sample_response['accession']\n",
    "    print(\"Submitted to biosamples: \" + response.text)\n",
    "else:\n",
    "    print(\"Failed to submit sample: \" + sample_request[\"name\"] + \". Reason: \" + response.text)"
   ]
  },
  {
   "cell_type": "markdown",
   "metadata": {},
   "source": [
    "That's it! You have created your first sample in BioSamples.\n",
    "You can read the response from the BioSamples.\n",
    "Most important element of the response body is the `accession`.\n",
    "This is the unique ID assigned by BioSamples to your sample.\n",
    "If you want to view your samples or make any updates in the future, you will need this `accession`.\n",
    "\n",
    "### What can we do after sample submission.\n",
    "- Do you have more metadata of the sample? Update the sample by providing them.\n",
    "- Does your sample compliant to a checklist, validate compliance by attaching a checklist.\n",
    "\n",
    "Now let's try to update the previous sample.\n",
    "Since we already have the sample response in `sample_response` variable,\n",
    "starting from there I am going to add a bit more metadata and attach a checklist ([ERC100002](https://www.ebi.ac.uk/biosamples/schemas/certification/plant-miappe.json)) to the sample.\n"
   ]
  },
  {
   "cell_type": "code",
   "execution_count": 7,
   "metadata": {
    "pycharm": {
     "name": "#%%\n"
    }
   },
   "outputs": [],
   "source": [
    "sample_request = sample_response\n",
    "sample_request[\"characteristics\"][\"description\"] = [{\n",
    "    \"text\": \"test sample for demo\"\n",
    "}]\n",
    "sample_request[\"characteristics\"][\"checklist\"] = [{\n",
    "    \"text\": \"ERC100002\"\n",
    "}]"
   ]
  },
  {
   "cell_type": "markdown",
   "metadata": {
    "pycharm": {
     "name": "#%% md\n"
    }
   },
   "source": [
    "Now the code to send the update request to BioSamples.\n",
    "Important thing to notice here is that, we append the `accession` to the request URL.\n",
    "We are sending a HTTP `PUT` request to update the sample."
   ]
  },
  {
   "cell_type": "code",
   "execution_count": 8,
   "metadata": {
    "pycharm": {
     "name": "#%%\n"
    }
   },
   "outputs": [
    {
     "name": "stdout",
     "output_type": "stream",
     "text": [
      "Failed to submit sample: test_sample. Reason: Checklist validation failed: Sample validation failed: [{\"dataPath\":\"/characteristics.biological material ID\",\"errors\":[\"should have required property 'biological material ID'\"]}]\n"
     ]
    }
   ],
   "source": [
    "update_url = BIOSAMPLES_URL + '/' + accession\n",
    "response = requests.put(update_url, headers=header, params=params, json=sample_request)\n",
    "\n",
    "response_sample = ''\n",
    "if response.status_code == requests.codes.ok:\n",
    "    sample_response = response.text\n",
    "    print(\"Submitted to biosamples: \" + response.text)\n",
    "else:\n",
    "    print(\"Failed to submit sample: \" + sample_request[\"name\"] + \". Reason: \" + response.text)"
   ]
  },
  {
   "cell_type": "markdown",
   "metadata": {
    "pycharm": {
     "name": "#%% md\n"
    }
   },
   "source": [
    "OHH NO! it failed. We already know why it failed.\n",
    "We asked to validate against ERC100002(Plant MIAAPE) checklist, but our sample is not MIAAPE compliant.\n",
    "Let's add minimum data for MIAAPE compliance and send the request."
   ]
  },
  {
   "cell_type": "code",
   "execution_count": 9,
   "metadata": {
    "pycharm": {
     "name": "#%%\n"
    }
   },
   "outputs": [
    {
     "name": "stdout",
     "output_type": "stream",
     "text": [
      "Submitted to biosamples: {\n",
      "  \"name\" : \"test_sample\",\n",
      "  \"accession\" : \"SAMEA7835196\",\n",
      "  \"webinSubmissionAccountId\" : \"Webin-59287\",\n",
      "  \"release\" : \"2021-06-11T17:56:46.312Z\",\n",
      "  \"update\" : \"2021-06-11T17:56:53.482Z\",\n",
      "  \"submitted\" : \"2021-06-11T17:56:46.509Z\",\n",
      "  \"taxId\" : 4072,\n",
      "  \"characteristics\" : {\n",
      "    \"biological material ID\" : [ {\n",
      "      \"text\" : \"BATEMPep1\"\n",
      "    } ],\n",
      "    \"checklist\" : [ {\n",
      "      \"text\" : \"ERC100002\"\n",
      "    } ],\n",
      "    \"description\" : [ {\n",
      "      \"text\" : \"test sample for demo\"\n",
      "    } ],\n",
      "    \"organism\" : [ {\n",
      "      \"text\" : \"Capsicum annuum\",\n",
      "      \"ontologyTerms\" : [ \"http://purl.obolibrary.org/obo/NCBITaxon_4072\" ]\n",
      "    } ]\n",
      "  },\n",
      "  \"releaseDate\" : \"2021-06-11\",\n",
      "  \"updateDate\" : \"2021-06-11\",\n",
      "  \"submittedDate\" : \"2021-06-11\",\n",
      "  \"submittedVia\" : \"JSON_API\",\n",
      "  \"create\" : \"2021-06-11T17:56:46.509Z\",\n",
      "  \"_links\" : {\n",
      "    \"self\" : {\n",
      "      \"href\" : \"https://wwwdev.ebi.ac.uk/biosamples/samples/SAMEA7835196\"\n",
      "    },\n",
      "    \"curationDomain\" : {\n",
      "      \"href\" : \"https://wwwdev.ebi.ac.uk/biosamples/samples/SAMEA7835196{?curationdomain}\",\n",
      "      \"templated\" : true\n",
      "    },\n",
      "    \"curationLinks\" : {\n",
      "      \"href\" : \"https://wwwdev.ebi.ac.uk/biosamples/samples/SAMEA7835196/curationlinks\"\n",
      "    },\n",
      "    \"curationLink\" : {\n",
      "      \"href\" : \"https://wwwdev.ebi.ac.uk/biosamples/samples/SAMEA7835196/curationlinks/{hash}\",\n",
      "      \"templated\" : true\n",
      "    }\n",
      "  }\n",
      "}\n"
     ]
    }
   ],
   "source": [
    "sample_request = sample_response\n",
    "sample_request[\"characteristics\"][\"biological material ID\"] = [{\n",
    "    \"text\": \"BATEMPep1\"\n",
    "}]\n",
    "\n",
    "update_url = BIOSAMPLES_URL + '/' + accession\n",
    "response = requests.put(update_url, headers=header, params=params, json=sample_request)\n",
    "\n",
    "if response.status_code == requests.codes.ok:\n",
    "    response_sample = response.text\n",
    "    print(\"Submitted to biosamples: \" + response.text)\n",
    "else:\n",
    "    print(\"Failed to submit sample: \" + sample_request[\"name\"] + \". Reason: \" + response.text)"
   ]
  },
  {
   "cell_type": "markdown",
   "metadata": {
    "pycharm": {
     "name": "#%% md\n"
    }
   },
   "source": [
    "This time it is successful. We have just submitted a MIAAPE compliant sample to BioSamples.\n",
    "\n",
    "\n",
    "This is the end of this guide. There are many other options in BioSamples API to explore. Here are few of them.\n",
    "- Attach external references to the sample\n",
    "- Attach sample relationships\n",
    "- Reserve a large pool of BioSamples accessions\n",
    "\n",
    "If you have any question, always feel welcome to contact us at biosamples@ebi.ac.uk\n"
   ]
  }
 ],
 "metadata": {
  "kernelspec": {
   "display_name": "Python 3",
   "language": "python",
   "name": "python3"
  },
  "language_info": {
   "codemirror_mode": {
    "name": "ipython",
    "version": 3
   },
   "file_extension": ".py",
   "mimetype": "text/x-python",
   "name": "python",
   "nbconvert_exporter": "python",
   "pygments_lexer": "ipython3",
   "version": "3.8.5"
  }
 },
 "nbformat": 4,
 "nbformat_minor": 1
}