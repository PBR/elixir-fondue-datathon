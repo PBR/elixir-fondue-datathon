{
 "cells": [
  {
   "cell_type": "markdown",
   "metadata": {
    "collapsed": true,
    "pycharm": {
     "name": "#%% md\n"
    }
   },
   "source": [
    "## Submitting multiple samples to BioSamples\n",
    "\n",
    "The following code snippet shows how you can submit all the JSON sample files stored in a directory.\n",
    "1. Authenticate and get a token\n",
    "2. List all available json files in the directory\n",
    "3. Loop through and submit each of the sample to BioSamples\n",
    "\n",
    "After submitting all the samples, it is important to store generated accessions to later update the same samples."
   ]
  },
  {
   "cell_type": "code",
   "execution_count": 11,
   "outputs": [
    {
     "name": "stdout",
     "output_type": "stream",
     "text": [
      "HOR 997 BRG successfully submitted to BioSamples, accession : SAMEA7836980\n",
      "HOR 2957 BRG successfully submitted to BioSamples, accession : SAMEA7836981\n",
      "HOR 2237 BRG successfully submitted to BioSamples, accession : SAMEA7836982\n",
      "HOR 3081 BRG successfully submitted to BioSamples, accession : SAMEA7836983\n",
      "HOR 1531 BRG successfully submitted to BioSamples, accession : SAMEA7836984\n",
      "HOR 337 BRG successfully submitted to BioSamples, accession : SAMEA7836985\n",
      "HOR 2180 BRG successfully submitted to BioSamples, accession : SAMEA7836986\n",
      "HOR 495 BRG successfully submitted to BioSamples, accession : SAMEA7836987\n",
      "HOR 610 BRG successfully submitted to BioSamples, accession : SAMEA7836988\n",
      "HOR 1361 BRG successfully submitted to BioSamples, accession : SAMEA7836989\n"
     ]
    }
   ],
   "source": [
    "import json\n",
    "\n",
    "import requests\n",
    "from os import listdir\n",
    "from os.path import isfile, join\n",
    "\n",
    "WEBIN_URL = 'https://wwwdev.ebi.ac.uk/ena/submit/webin/auth/token'\n",
    "BIOSAMPLES_BASE_URL = 'https://wwwdev.ebi.ac.uk/biosamples'\n",
    "\n",
    "def main():\n",
    "    webin_user = 'Webin-59287'\n",
    "    webin_pass = ''\n",
    "    token = authenticate(webin_user, webin_pass)\n",
    "\n",
    "    sample_files = get_sample_files('../..')\n",
    "    for f in sample_files:\n",
    "        with open(f) as sample_file:\n",
    "            sample = json.load(sample_file)\n",
    "            accession = submit_sample(sample, token)\n",
    "            print(sample['name'] + \" successfully submitted to BioSamples, accession : \" + accession)\n",
    "\n",
    "def get_sample_files(dir_path):\n",
    "    return [join(dir_path, f) for f in listdir(dir_path) if isfile(join(dir_path, f)) and f.endswith('.json')]\n",
    "\n",
    "def authenticate(username, password):\n",
    "    auth_body = {\n",
    "        \"authRealms\": [\"ENA\"],\n",
    "        \"password\": password,\n",
    "        \"username\": username\n",
    "    }\n",
    "    response = requests.post(WEBIN_URL, json=auth_body)\n",
    "    if response.status_code == requests.codes.ok:\n",
    "        return response.text\n",
    "    else:\n",
    "        raise response.raise_for_status()\n",
    "\n",
    "\n",
    "def submit_sample(sample, jwt):\n",
    "    sample_submit_endpoint = BIOSAMPLES_BASE_URL + \"/samples\"\n",
    "\n",
    "    header = {\n",
    "        \"Content-Type\": \"application/json;charset=UTF-8\",\n",
    "        \"Accept\": \"application/hal+json\",\n",
    "        \"Authorization\": \"Bearer \" + jwt\n",
    "    }\n",
    "    params = {\"authProvider\": \"WEBIN\"}\n",
    "\n",
    "    response = requests.post(sample_submit_endpoint, headers=header, params=params, json=sample)\n",
    "\n",
    "    if response.status_code == requests.codes.created:\n",
    "        return response.json()[\"accession\"]\n",
    "    else:\n",
    "        print(\"Failed to submit sample: \" + sample[\"name\"] + \" : \" + response.text)\n",
    "        response.raise_for_status()\n",
    "\n",
    "main()"
   ],
   "metadata": {
    "collapsed": false,
    "pycharm": {
     "name": "#%%\n"
    }
   }
  },
  {
   "cell_type": "code",
   "execution_count": null,
   "outputs": [],
   "source": [],
   "metadata": {
    "collapsed": false,
    "pycharm": {
     "name": "#%%\n"
    }
   }
  }
 ],
 "metadata": {
  "kernelspec": {
   "display_name": "Python 3",
   "language": "python",
   "name": "python3"
  },
  "language_info": {
   "codemirror_mode": {
    "name": "ipython",
    "version": 2
   },
   "file_extension": ".py",
   "mimetype": "text/x-python",
   "name": "python",
   "nbconvert_exporter": "python",
   "pygments_lexer": "ipython2",
   "version": "2.7.6"
  }
 },
 "nbformat": 4,
 "nbformat_minor": 0
}