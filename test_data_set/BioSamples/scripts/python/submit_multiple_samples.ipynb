{
 "cells": [
  {
   "cell_type": "markdown",
   "metadata": {
    "collapsed": true,
    "pycharm": {
     "name": "#%% md\n"
    }
   },
   "source": [
    "The following code snippet shows how you can submit all the JSON sample files stored in a directory."
   ]
  },
  {
   "cell_type": "code",
   "execution_count": 1,
   "outputs": [
    {
     "name": "stdout",
     "output_type": "stream",
     "text": [
      "hello\n"
     ]
    }
   ],
   "source": [
    "import requests\n",
    "\n",
    "WEBIN_URL = ''\n",
    "BIOSAMPLES_BASE_URL = ''\n",
    "\n",
    "def main():\n",
    "    webin_user = ''\n",
    "    webin_pass = ''\n",
    "    token = authenticate(webin_user, webin_pass)\n",
    "\n",
    "    sample = {}\n",
    "    accession = submit_sample(sample, token)\n",
    "    print(accession + \" successfully submitted to BioSamples\")\n",
    "\n",
    "def authenticate(username, password):\n",
    "    auth_body = {\n",
    "        \"authRealms\": [\"ENA\"],\n",
    "        \"password\": username,\n",
    "        \"username\": password\n",
    "    }\n",
    "    response = requests.post(WEBIN_URL, json=auth_body)\n",
    "    if response.status_code == requests.codes.ok:\n",
    "        return response.text\n",
    "    else:\n",
    "        raise response.raise_for_status()\n",
    "\n",
    "\n",
    "def submit_sample(sample, jwt):\n",
    "    sample_submit_endpoint = BIOSAMPLES_BASE_URL + \"/samples\"\n",
    "\n",
    "    header = {\n",
    "        \"Content-Type\": \"application/json;charset=UTF-8\",\n",
    "        \"Accept\": \"application/hal+json\",\n",
    "        \"Authorization\": \"Bearer \" + jwt\n",
    "    }\n",
    "    params = {\"authProvider\": \"WEBIN\"}\n",
    "\n",
    "    response = requests.post(sample_submit_endpoint, headers=header, params=params, json=sample)\n",
    "\n",
    "    if response.status_code == requests.codes.created:\n",
    "        return response.json()[\"accession\"]\n",
    "    else:\n",
    "        print(\"Failed to submit sample: \" + sample[\"name\"])\n",
    "        response.raise_for_status()\n",
    "\n",
    "main()"
   ],
   "metadata": {
    "collapsed": false,
    "pycharm": {
     "name": "#%%\n"
    }
   }
  }
 ],
 "metadata": {
  "kernelspec": {
   "display_name": "Python 3",
   "language": "python",
   "name": "python3"
  },
  "language_info": {
   "codemirror_mode": {
    "name": "ipython",
    "version": 2
   },
   "file_extension": ".py",
   "mimetype": "text/x-python",
   "name": "python",
   "nbconvert_exporter": "python",
   "pygments_lexer": "ipython2",
   "version": "2.7.6"
  }
 },
 "nbformat": 4,
 "nbformat_minor": 0
}